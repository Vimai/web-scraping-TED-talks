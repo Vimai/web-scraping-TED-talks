{
 "cells": [
  {
   "cell_type": "code",
   "execution_count": 23,
   "metadata": {},
   "outputs": [],
   "source": [
    "from bs4 import BeautifulSoup\n",
    "import requests\n",
    "import json\n",
    "import re"
   ]
  },
  {
   "cell_type": "code",
   "execution_count": 24,
   "metadata": {},
   "outputs": [],
   "source": [
    "def handle_ted(url):\n",
    "\n",
    "  response = requests.get(url)\n",
    "  soup = BeautifulSoup(response.content)\n",
    "  transcript = soup(\"div\", {\"class\":\"Grid Grid--with-gutter d:f@md p-b:4\"})\n",
    "  texts = []\n",
    "  for div in transcript:\n",
    "    text = div(\"p\")[0].text\n",
    "    text = text.strip()\n",
    "    text = text.replace(\"\\n\", \" \")\n",
    "    text = text.replace(\"\\t\", \" \")\n",
    "    text = re.sub(' +', ' ', text)\n",
    "    texts.append(text)\n",
    "  \n",
    "  title = soup.title.text\n",
    "  author = title.split(\":\")[0].strip()\n",
    "  title = title.split(\":\")[1].split(\"|\")[0].strip()\n",
    "  return {\n",
    "    \"author\": author,\n",
    "    \"body\": \" \".join(texts),\n",
    "    \"title\": title,\n",
    "    \"type\": \"video\",\n",
    "    \"url\": url\n",
    "  }"
   ]
  },
  {
   "cell_type": "code",
   "execution_count": 25,
   "metadata": {},
   "outputs": [],
   "source": [
    "def handle_startse(url):\n",
    "\n",
    "  response = requests.get(url)\n",
    "  soup = BeautifulSoup(response.content)\n",
    "  spans = soup(\"span\", {\"style\":\"font-weight: 400;\"})\n",
    "  texts = []\n",
    "  for span in spans:\n",
    "    text = span.text\n",
    "    text = text.strip()\n",
    "    text = text.replace(\"\\n\", \" \")\n",
    "    text = text.replace(\"\\t\", \" \")\n",
    "    text = re.sub(' +', ' ', text)\n",
    "    texts.append(text)\n",
    "  \n",
    "  author = soup(\"div\", {\"class\":\"title-single__info\"})[0](\"h4\")[0](\"a\")[0].text\n",
    "  title = soup(\"div\", {\"class\":\"title-single__title\"})[0](\"h2\")[0].text\n",
    "  return {\n",
    "    \"author\": author,\n",
    "    \"body\": \" \".join(texts),\n",
    "    \"title\": title,\n",
    "    \"type\": \"article\",\n",
    "    \"url\": url\n",
    "  }"
   ]
  },
  {
   "cell_type": "code",
   "execution_count": 26,
   "metadata": {},
   "outputs": [],
   "source": [
    "def handle_olhar_digital(url):\n",
    "    \n",
    "  response = requests.get(url)\n",
    "  soup = BeautifulSoup(response.content)\n",
    "  transcript = soup(\"article\", {\"class\":\"mat-container\"})[0](\"div\", {\"class\":\"mat-txt\"})\n",
    "  texts = []\n",
    "  for div in transcript:\n",
    "    paragraphs = div(\"p\")\n",
    "    for p in paragraphs:\n",
    "      text = p.text\n",
    "      text = text.strip()\n",
    "      text = text.replace(\"\\n\", \" \")\n",
    "      text = text.replace(\"\\t\", \" \")\n",
    "      text = re.sub(' +', ' ', text)\n",
    "      texts.append(text)\n",
    "  \n",
    "  author = soup('span', {'class':\"meta-item meta-aut\"})[0].get_text().split(',')[0]\n",
    "  title = soup(\"h1\", {\"class\":\"mat-tit\"})[0].text\n",
    "  return {\n",
    "    \"author\": author,\n",
    "    \"body\": \" \".join(texts),\n",
    "    \"title\": title,\n",
    "    \"type\": \"article\",\n",
    "    \"url\": url\n",
    "  }"
   ]
  },
  {
   "cell_type": "code",
   "execution_count": 27,
   "metadata": {},
   "outputs": [],
   "source": [
    "listas_urls = []"
   ]
  },
  {
   "cell_type": "code",
   "execution_count": 28,
   "metadata": {},
   "outputs": [],
   "source": [
    "listas_urls.append('https://www.ted.com/talks/helen_czerski_the_fascinating_physics_of_everyday_life/transcript?language=pt-br#t-81674')"
   ]
  },
  {
   "cell_type": "code",
   "execution_count": 29,
   "metadata": {},
   "outputs": [],
   "source": [
    "listas_urls.append('https://www.ted.com/talks/kevin_kelly_how_ai_can_bring_on_a_second_industrial_revolution/transcript?language=pt-br')"
   ]
  },
  {
   "cell_type": "code",
   "execution_count": 30,
   "metadata": {},
   "outputs": [],
   "source": [
    "listas_urls.append('https://www.ted.com/talks/sarah_parcak_help_discover_ancient_ruins_before_it_s_too_late/transcript?language=pt-br')"
   ]
  },
  {
   "cell_type": "code",
   "execution_count": 31,
   "metadata": {},
   "outputs": [],
   "source": [
    "listas_urls.append('https://www.ted.com/talks/sylvain_duranton_how_humans_and_ai_can_work_together_to_create_better_businesses/transcript?language=pt-br')"
   ]
  },
  {
   "cell_type": "code",
   "execution_count": 32,
   "metadata": {},
   "outputs": [],
   "source": [
    "listas_urls.append('https://www.ted.com/talks/chieko_asakawa_how_new_technology_helps_blind_people_explore_the_world/transcript?language=pt-br')"
   ]
  },
  {
   "cell_type": "code",
   "execution_count": 33,
   "metadata": {},
   "outputs": [],
   "source": [
    "listas_urls.append('https://www.ted.com/talks/pierre_barreau_how_ai_could_compose_a_personalized_soundtrack_to_your_life/transcript?language=pt-br')"
   ]
  },
  {
   "cell_type": "code",
   "execution_count": 34,
   "metadata": {},
   "outputs": [],
   "source": [
    "listas_urls.append('https://www.ted.com/talks/tom_gruber_how_ai_can_enhance_our_memory_work_and_social_lives/transcript?language=pt-br')"
   ]
  },
  {
   "cell_type": "code",
   "execution_count": 35,
   "metadata": {},
   "outputs": [],
   "source": [
    "listas_urls.append('https://olhardigital.com.br/colunistas/wagner_sanchez/post/o_futuro_cada_vez_mais_perto/78972')"
   ]
  },
  {
   "cell_type": "code",
   "execution_count": 36,
   "metadata": {},
   "outputs": [],
   "source": [
    "listas_urls.append('https://olhardigital.com.br/colunistas/wagner_sanchez/post/os_riscos_do_machine_learning/80584')"
   ]
  },
  {
   "cell_type": "code",
   "execution_count": 37,
   "metadata": {},
   "outputs": [],
   "source": [
    "listas_urls.append('https://olhardigital.com.br/ciencia-e-espaco/noticia/nova-teoria-diz-que-passado-presente-e-futuro-coexistem/97786')"
   ]
  },
  {
   "cell_type": "code",
   "execution_count": 38,
   "metadata": {},
   "outputs": [],
   "source": [
    "listas_urls.append('https://olhardigital.com.br/noticia/inteligencia-artificial-da-ibm-consegue-prever-cancer-de-mama/87030')"
   ]
  },
  {
   "cell_type": "code",
   "execution_count": 39,
   "metadata": {},
   "outputs": [],
   "source": [
    "listas_urls.append('https://olhardigital.com.br/ciencia-e-espaco/noticia/inteligencia-artificial-ajuda-a-nasa-a-projetar-novos-trajes-espaciais/102772')"
   ]
  },
  {
   "cell_type": "code",
   "execution_count": 40,
   "metadata": {},
   "outputs": [],
   "source": [
    "listas_urls.append('https://olhardigital.com.br/colunistas/jorge_vargas_neto/post/como_a_inteligencia_artificial_pode_mudar_o_cenario_de_oferta_de_credito/78999')"
   ]
  },
  {
   "cell_type": "code",
   "execution_count": 41,
   "metadata": {},
   "outputs": [],
   "source": [
    "listas_urls.append('https://olhardigital.com.br/ciencia-e-espaco/noticia/cientistas-criam-programa-poderoso-que-aprimora-deteccao-de-galaxias/100683')"
   ]
  },
  {
   "cell_type": "code",
   "execution_count": 42,
   "metadata": {},
   "outputs": [],
   "source": [
    "listas_urls.append('https://www.startse.com/noticia/startups/mobtech/deep-learning-o-cerebro-dos-carros-autonomos')"
   ]
  },
  {
   "cell_type": "code",
   "execution_count": 43,
   "metadata": {},
   "outputs": [],
   "source": [
    "conteudo = []\n",
    "for url in listas_urls:\n",
    "    try:\n",
    "        if 'ted' in url:\n",
    "            obj = handle_ted(url)\n",
    "        elif 'olhardigital' in url:\n",
    "            obj = handle_olhar_digital(url)\n",
    "        elif 'startse' in url:\n",
    "            obj = handle_startse(url)\n",
    "        conteudo.append(obj.copy())\n",
    "    except Exception as e:\n",
    "        print(e)\n",
    "        print('ERRO', url)"
   ]
  },
  {
   "cell_type": "code",
   "execution_count": 22,
   "metadata": {},
   "outputs": [],
   "source": [
    "for index, arquivo in enumerate(conteudo):\n",
    "    with open(f'filename{index}.json', 'w', encoding='utf8') as json_file:\n",
    "        json.dump(arquivo, json_file, ensure_ascii=False)\n"
   ]
  },
  {
   "cell_type": "code",
   "execution_count": null,
   "metadata": {},
   "outputs": [],
   "source": []
  }
 ],
 "metadata": {
  "kernelspec": {
   "display_name": "Python 3",
   "language": "python",
   "name": "python3"
  },
  "language_info": {
   "codemirror_mode": {
    "name": "ipython",
    "version": 3
   },
   "file_extension": ".py",
   "mimetype": "text/x-python",
   "name": "python",
   "nbconvert_exporter": "python",
   "pygments_lexer": "ipython3",
   "version": "3.7.4"
  }
 },
 "nbformat": 4,
 "nbformat_minor": 2
}
